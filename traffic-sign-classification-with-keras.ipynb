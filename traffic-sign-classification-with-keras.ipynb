{
 "cells": [
  {
   "cell_type": "markdown",
   "metadata": {},
   "source": [
    "# Traffic Sign Classification with Keras\n",
    "\n",
    "Keras exists to make coding deep neural networks simpler. To demonstrate just how easy it is, you’re going to use Keras to build a convolutional neural network in a few dozen lines of code.\n",
    "\n",
    "You’ll be connecting the concepts from the previous lessons to the methods that Keras provides."
   ]
  },
  {
   "cell_type": "markdown",
   "metadata": {},
   "source": [
    "## Dataset\n",
    "\n",
    "The network you'll build with Keras is similar to the example in Keras’s GitHub repository that builds out a [convolutional neural network for MNIST](https://github.com/fchollet/keras/blob/master/examples/mnist_cnn.py). \n",
    "\n",
    "However, instead of using the [MNIST](http://yann.lecun.com/exdb/mnist/) dataset, you're going to use the [German Traffic Sign Recognition Benchmark](http://benchmark.ini.rub.de/?section=gtsrb&subsection=news) dataset that you've used previously.\n",
    "\n",
    "You can download pickle files with sanitized traffic sign data here:"
   ]
  },
  {
   "cell_type": "code",
   "execution_count": 1,
   "metadata": {
    "collapsed": false
   },
   "outputs": [
    {
     "name": "stdout",
     "output_type": "stream",
     "text": [
      "Training and Test data downloaded.\n"
     ]
    }
   ],
   "source": [
    "from urllib.request import urlretrieve\n",
    "from os.path import isfile\n",
    "from tqdm import tqdm\n",
    "\n",
    "class DLProgress(tqdm):\n",
    "    last_block = 0\n",
    "\n",
    "    def hook(self, block_num=1, block_size=1, total_size=None):\n",
    "        self.total = total_size\n",
    "        self.update((block_num - self.last_block) * block_size)\n",
    "        self.last_block = block_num\n",
    "\n",
    "if not isfile('train.p'):\n",
    "    with DLProgress(unit='B', unit_scale=True, miniters=1, desc='Train Dataset') as pbar:\n",
    "        urlretrieve(\n",
    "            'https://s3.amazonaws.com/udacity-sdc/datasets/german_traffic_sign_benchmark/train.p',\n",
    "            'train.p',\n",
    "            pbar.hook)\n",
    "\n",
    "if not isfile('test.p'):\n",
    "    with DLProgress(unit='B', unit_scale=True, miniters=1, desc='Test Dataset') as pbar:\n",
    "        urlretrieve(\n",
    "            'https://s3.amazonaws.com/udacity-sdc/datasets/german_traffic_sign_benchmark/test.p',\n",
    "            'test.p',\n",
    "            pbar.hook)\n",
    "\n",
    "print('Training and Test data downloaded.')"
   ]
  },
  {
   "cell_type": "markdown",
   "metadata": {},
   "source": [
    "## Overview\n",
    "\n",
    "Here are the steps you'll take to build the network:\n",
    "\n",
    "1. Load the training data.\n",
    "2. Preprocess the data.\n",
    "3. Build a feedforward neural network to classify traffic signs.\n",
    "4. Build a convolutional neural network to classify traffic signs.\n",
    "5. Evaluate the final neural network on testing data.\n",
    "\n",
    "Keep an eye on the network’s accuracy over time. Once the accuracy reaches the 98% range, you can be confident that you’ve built and trained an effective model."
   ]
  },
  {
   "cell_type": "code",
   "execution_count": 2,
   "metadata": {
    "collapsed": false
   },
   "outputs": [
    {
     "name": "stdout",
     "output_type": "stream",
     "text": [
      "Modules loaded.\n"
     ]
    }
   ],
   "source": [
    "import pickle\n",
    "import numpy as np\n",
    "import math\n",
    "\n",
    "# Fix error with TF and Keras\n",
    "import tensorflow as tf\n",
    "tf.python.control_flow_ops = tf\n",
    "\n",
    "print('Modules loaded.')"
   ]
  },
  {
   "cell_type": "markdown",
   "metadata": {},
   "source": [
    "## Load the Data\n",
    "\n",
    "Start by importing the data from the pickle file."
   ]
  },
  {
   "cell_type": "code",
   "execution_count": 3,
   "metadata": {
    "collapsed": false
   },
   "outputs": [],
   "source": [
    "with open('train.p', 'rb') as f:\n",
    "    data = pickle.load(f)\n",
    "\n",
    "# TODO: Load the feature data to the variable X_train\n",
    "# TODO: Load the label data to the variable y_train\n",
    "\n",
    "X_train, y_train = data['features'], data['labels']\n"
   ]
  },
  {
   "cell_type": "code",
   "execution_count": 4,
   "metadata": {
    "collapsed": false
   },
   "outputs": [
    {
     "name": "stdout",
     "output_type": "stream",
     "text": [
      "Tests passed.\n"
     ]
    }
   ],
   "source": [
    "# STOP: Do not change the tests below. Your implementation should pass these tests. \n",
    "assert np.array_equal(X_train, data['features']), 'X_train not set to data[\\'features\\'].'\n",
    "assert np.array_equal(y_train, data['labels']), 'y_train not set to data[\\'labels\\'].'\n",
    "print('Tests passed.')"
   ]
  },
  {
   "cell_type": "markdown",
   "metadata": {},
   "source": [
    "## Preprocess the Data\n",
    "\n",
    "1. Shuffle the data\n",
    "2. Normalize the features using Min-Max scaling between -0.5 and 0.5\n",
    "3. One-Hot Encode the labels\n",
    "\n",
    "### Shuffle the data\n",
    "Hint: You can use the [scikit-learn shuffle](http://scikit-learn.org/stable/modules/generated/sklearn.utils.shuffle.html) function to shuffle the data."
   ]
  },
  {
   "cell_type": "code",
   "execution_count": 5,
   "metadata": {
    "collapsed": false
   },
   "outputs": [],
   "source": [
    "# TODO: Shuffle the data\n",
    "from sklearn.utils import shuffle\n",
    "X_train, y_train = shuffle(X_train, y_train, random_state=9345)"
   ]
  },
  {
   "cell_type": "code",
   "execution_count": 6,
   "metadata": {
    "collapsed": false
   },
   "outputs": [
    {
     "name": "stdout",
     "output_type": "stream",
     "text": [
      "Tests passed.\n"
     ]
    }
   ],
   "source": [
    "# STOP: Do not change the tests below. Your implementation should pass these tests. \n",
    "assert X_train.shape == data['features'].shape, 'X_train has changed shape. The shape shouldn\\'t change when shuffling.'\n",
    "assert y_train.shape == data['labels'].shape, 'y_train has changed shape. The shape shouldn\\'t change when shuffling.'\n",
    "assert not np.array_equal(X_train, data['features']), 'X_train not shuffled.'\n",
    "assert not np.array_equal(y_train, data['labels']), 'y_train not shuffled.'\n",
    "print('Tests passed.')"
   ]
  },
  {
   "cell_type": "markdown",
   "metadata": {},
   "source": [
    "### Normalize the features\n",
    "Hint: You solved this in [TensorFlow lab](https://github.com/udacity/CarND-TensorFlow-Lab/blob/master/lab.ipynb) Problem 1."
   ]
  },
  {
   "cell_type": "code",
   "execution_count": 7,
   "metadata": {
    "collapsed": false
   },
   "outputs": [],
   "source": [
    "# TODO: Normalize the data features to the variable X_normalized\n",
    "X_normalized = X_train/255 - 0.5"
   ]
  },
  {
   "cell_type": "code",
   "execution_count": 8,
   "metadata": {
    "collapsed": false
   },
   "outputs": [
    {
     "name": "stdout",
     "output_type": "stream",
     "text": [
      "Tests passed.\n"
     ]
    }
   ],
   "source": [
    "# STOP: Do not change the tests below. Your implementation should pass these tests. \n",
    "assert math.isclose(np.min(X_normalized), -0.5, abs_tol=1e-5) and math.isclose(np.max(X_normalized), 0.5, abs_tol=1e-5), 'The range of the training data is: {} to {}.  It must be -0.5 to 0.5'.format(np.min(X_normalized), np.max(X_normalized))\n",
    "print('Tests passed.')"
   ]
  },
  {
   "cell_type": "markdown",
   "metadata": {},
   "source": [
    "### One-Hot Encode the labels\n",
    "Hint: You can use the [scikit-learn LabelBinarizer](http://scikit-learn.org/stable/modules/generated/sklearn.preprocessing.LabelBinarizer.html) function to one-hot encode the labels."
   ]
  },
  {
   "cell_type": "code",
   "execution_count": 9,
   "metadata": {
    "collapsed": false
   },
   "outputs": [],
   "source": [
    "# TODO: One Hot encode the labels to the variable y_one_hot\n",
    "from sklearn.preprocessing import LabelBinarizer\n",
    "encoder = LabelBinarizer()\n",
    "encoder.fit(y_train)\n",
    "y_one_hot = encoder.transform(y_train)\n",
    "y_one_hot = y_one_hot.astype(np.float32)   "
   ]
  },
  {
   "cell_type": "code",
   "execution_count": 10,
   "metadata": {
    "collapsed": false
   },
   "outputs": [
    {
     "name": "stdout",
     "output_type": "stream",
     "text": [
      "Tests passed.\n"
     ]
    }
   ],
   "source": [
    "# STOP: Do not change the tests below. Your implementation should pass these tests. \n",
    "import collections\n",
    "\n",
    "assert y_one_hot.shape == (39209, 43), 'y_one_hot is not the correct shape.  It\\'s {}, it should be (39209, 43)'.format(y_one_hot.shape)\n",
    "assert next((False for y in y_one_hot if collections.Counter(y) != {0: 42, 1: 1}), True), 'y_one_hot not one-hot encoded.'\n",
    "print('Tests passed.')"
   ]
  },
  {
   "cell_type": "markdown",
   "metadata": {},
   "source": [
    "## Keras Sequential Model\n",
    "```python\n",
    "from keras.models import Sequential\n",
    "\n",
    "# Create the Sequential model\n",
    "model = Sequential()\n",
    "```\n",
    "The `keras.models.Sequential` class is a wrapper for the neural network model. Just like many of the class models in scikit-learn, it provides common functions like `fit()`, `evaluate()`, and `compile()`.  We'll cover these functions as we get to them.  Let's start looking at the layers of the model.\n",
    "\n",
    "## Keras Layer\n",
    "A Keras layer is just like a neural network layer.  It can be fully connected, max pool, activation, etc.  You can add a layer to the model using the model's `add()` function.  For example, a simple model would look like this:\n",
    "```python\n",
    "from keras.models import Sequential\n",
    "from keras.layers.core import Dense, Activation, Flatten\n",
    "\n",
    "# Create the Sequential model\n",
    "model = Sequential()\n",
    "\n",
    "# 1st Layer - Add a flatten layer\n",
    "model.add(Flatten(input_shape=(32, 32, 3)))\n",
    "\n",
    "# 2nd Layer - Add a fully connected layer\n",
    "model.add(Dense(100))\n",
    "\n",
    "# 3rd Layer - Add a ReLU activation layer\n",
    "model.add(Activation('relu'))\n",
    "\n",
    "# 4th Layer - Add a fully connected layer\n",
    "model.add(Dense(60))\n",
    "\n",
    "# 5th Layer - Add a ReLU activation layer\n",
    "model.add(Activation('relu'))\n",
    "```\n",
    "Keras will automatically infer the shape of all layers after the first layer.  This means you only have to set the input dimensions for the first layer.\n",
    "\n",
    "The first layer from above, `model.add(Flatten(input_shape=(32, 32, 3)))`, sets the input dimension to (32, 32, 3) and output dimension to (3072=32\\*32\\*3).  The second layer takes in the output of the first layer and sets the output dimenions to (100).  This chain of passing output to the next layer continues until the last layer, which is the output of the model."
   ]
  },
  {
   "cell_type": "markdown",
   "metadata": {},
   "source": [
    "## Build a Multi-Layer Feedforward Network\n",
    "\n",
    "Build a multi-layer feedforward neural network to classify the traffic sign images.\n",
    "\n",
    "1. Set the first layer to a `Flatten` layer with the `input_shape` set to (32, 32, 3)\n",
    "2. Set the second layer to `Dense` layer width to 128 output. \n",
    "3. Use a ReLU activation function after the second layer.\n",
    "4. Set the output layer width to 43, since there are 43 classes in the dataset.\n",
    "5. Use a softmax activation function after the output layer.\n",
    "\n",
    "To get started, review the Keras documentation about [models](https://keras.io/models/sequential/) and [layers](https://keras.io/layers/core/).\n",
    "\n",
    "The Keras example of a [Multi-Layer Perceptron](https://github.com/fchollet/keras/blob/master/examples/mnist_mlp.py) network is similar to what you need to do here. Use that as a guide, but keep in mind that there are a number of differences."
   ]
  },
  {
   "cell_type": "code",
   "execution_count": 13,
   "metadata": {
    "collapsed": false
   },
   "outputs": [],
   "source": [
    "from keras.models import Sequential\n",
    "model = Sequential()\n",
    "\n",
    "# TODO: Build a Multi-layer feedforward neural network with Keras here.\n",
    "from keras.layers import Flatten, Dense, Activation\n",
    "model.add(Flatten(input_shape=(32, 32, 3)))\n",
    "model.add(Dense(128))\n",
    "model.add(Activation('relu'))\n",
    "model.add(Dense(43))\n",
    "model.add(Activation('softmax'))"
   ]
  },
  {
   "cell_type": "code",
   "execution_count": 14,
   "metadata": {
    "collapsed": false
   },
   "outputs": [
    {
     "name": "stdout",
     "output_type": "stream",
     "text": [
      "Tests passed.\n"
     ]
    }
   ],
   "source": [
    "# STOP: Do not change the tests below. Your implementation should pass these tests.\n",
    "from keras.layers.core import Dense, Activation, Flatten\n",
    "from keras.activations import relu, softmax\n",
    "\n",
    "def check_layers(layers, true_layers):\n",
    "    assert len(true_layers) != 0, 'No layers found'\n",
    "    for layer_i in range(len(layers)):\n",
    "        assert isinstance(true_layers[layer_i], layers[layer_i]), 'Layer {} is not a {} layer'.format(layer_i+1, layers[layer_i].__name__)\n",
    "    assert len(true_layers) == len(layers), '{} layers found, should be {} layers'.format(len(true_layers), len(layers))\n",
    "\n",
    "check_layers([Flatten, Dense, Activation, Dense, Activation], model.layers)\n",
    "\n",
    "assert model.layers[0].input_shape == (None, 32, 32, 3), 'First layer input shape is wrong, it should be (32, 32, 3)'\n",
    "assert model.layers[1].output_shape == (None, 128), 'Second layer output is wrong, it should be (128)'\n",
    "assert model.layers[2].activation == relu, 'Third layer not a relu activation layer'\n",
    "assert model.layers[3].output_shape == (None, 43), 'Fourth layer output is wrong, it should be (43)'\n",
    "assert model.layers[4].activation == softmax, 'Fifth layer not a softmax activation layer'\n",
    "print('Tests passed.')"
   ]
  },
  {
   "cell_type": "markdown",
   "metadata": {},
   "source": [
    "## Training a Sequential Model\n",
    "You built a multi-layer neural network in Keras, now let's look at training a neural network.\n",
    "```python\n",
    "from keras.models import Sequential\n",
    "from keras.layers.core import Dense, Activation\n",
    "\n",
    "model = Sequential()\n",
    "...\n",
    "\n",
    "# Configures the learning process and metrics\n",
    "model.compile('sgd', 'mean_squared_error', ['accuracy'])\n",
    "\n",
    "# Train the model\n",
    "# History is a record of training loss and metrics\n",
    "history = model.fit(x_train_data, Y_train_data, batch_size=128, nb_epoch=2, validation_split=0.2)\n",
    "\n",
    "# Calculate test score\n",
    "test_score = model.evaluate(x_test_data, Y_test_data)\n",
    "```\n",
    "The code above configures, trains, and tests the model.  The line `model.compile('sgd', 'mean_squared_error', ['accuracy'])` configures the model's optimizer to `'sgd'`(stochastic gradient descent), the loss to `'mean_squared_error'`, and the metric to `'accuracy'`.  \n",
    "\n",
    "You can find more optimizers [here](https://keras.io/optimizers/), loss functions [here](https://keras.io/objectives/#available-objectives), and more metrics [here](https://keras.io/metrics/#available-metrics).\n",
    "\n",
    "To train the model, use the `fit()` function as shown in `model.fit(x_train_data, Y_train_data, batch_size=128, nb_epoch=2, validation_split=0.2)`.  The `validation_split` parameter will split a percentage of the training dataset to be used to validate the model.  The model can be further tested with the test dataset using the `evaluation()` function as shown in the last line."
   ]
  },
  {
   "cell_type": "markdown",
   "metadata": {},
   "source": [
    "## Train the Network\n",
    "\n",
    "1. Compile the network using adam optimizer and categorical_crossentropy loss function.\n",
    "2. Train the network for ten epochs and validate with 20% of the training data."
   ]
  },
  {
   "cell_type": "code",
   "execution_count": 17,
   "metadata": {
    "collapsed": false
   },
   "outputs": [
    {
     "name": "stdout",
     "output_type": "stream",
     "text": [
      "Train on 31367 samples, validate on 7842 samples\n",
      "Epoch 1/10\n",
      "31367/31367 [==============================] - 10s - loss: 0.2896 - acc: 0.9219 - val_loss: 0.2690 - val_acc: 0.9237\n",
      "Epoch 2/10\n",
      "31367/31367 [==============================] - 10s - loss: 0.2363 - acc: 0.9357 - val_loss: 0.2509 - val_acc: 0.9384\n",
      "Epoch 3/10\n",
      "31367/31367 [==============================] - 10s - loss: 0.2384 - acc: 0.9347 - val_loss: 0.2890 - val_acc: 0.9151\n",
      "Epoch 4/10\n",
      "31367/31367 [==============================] - 10s - loss: 0.2023 - acc: 0.9423 - val_loss: 0.3181 - val_acc: 0.9063\n",
      "Epoch 5/10\n",
      "31367/31367 [==============================] - 9s - loss: 0.2102 - acc: 0.9409 - val_loss: 0.2754 - val_acc: 0.9158\n",
      "Epoch 6/10\n",
      "31367/31367 [==============================] - 8s - loss: 0.1947 - acc: 0.9467 - val_loss: 0.3115 - val_acc: 0.9078\n",
      "Epoch 7/10\n",
      "31367/31367 [==============================] - 8s - loss: 0.1911 - acc: 0.9469 - val_loss: 0.2531 - val_acc: 0.9287\n",
      "Epoch 8/10\n",
      "31367/31367 [==============================] - 8s - loss: 0.1880 - acc: 0.9477 - val_loss: 0.2437 - val_acc: 0.9282\n",
      "Epoch 9/10\n",
      "31367/31367 [==============================] - 8s - loss: 0.1659 - acc: 0.9545 - val_loss: 0.3134 - val_acc: 0.9036\n",
      "Epoch 10/10\n",
      "31367/31367 [==============================] - 8s - loss: 0.1592 - acc: 0.9554 - val_loss: 0.2616 - val_acc: 0.9267\n"
     ]
    }
   ],
   "source": [
    "# TODO: Compile and train the model here.\n",
    "model.compile('adam', 'categorical_crossentropy', ['accuracy'])\n",
    "history = model.fit(X_normalized, y_one_hot, batch_size=100, nb_epoch=10, validation_split=0.2)"
   ]
  },
  {
   "cell_type": "code",
   "execution_count": 18,
   "metadata": {
    "collapsed": false
   },
   "outputs": [
    {
     "name": "stdout",
     "output_type": "stream",
     "text": [
      "Tests passed.\n"
     ]
    }
   ],
   "source": [
    "# STOP: Do not change the tests below. Your implementation should pass these tests.\n",
    "from keras.optimizers import Adam\n",
    "\n",
    "assert model.loss == 'categorical_crossentropy', 'Not using categorical_crossentropy loss function'\n",
    "assert isinstance(model.optimizer, Adam), 'Not using adam optimizer'\n",
    "assert len(history.history['acc']) == 10, 'You\\'re using {} epochs when you need to use 10 epochs.'.format(len(history.history['acc']))\n",
    "\n",
    "assert history.history['acc'][-1] > 0.92, 'The training accuracy was: %.3f. It shoud be greater than 0.92' % history.history['acc'][-1]\n",
    "assert history.history['val_acc'][-1] > 0.85, 'The validation accuracy is: %.3f. It shoud be greater than 0.85' % history.history['val_acc'][-1]\n",
    "print('Tests passed.')"
   ]
  },
  {
   "cell_type": "markdown",
   "metadata": {},
   "source": [
    "## Convolutions\n",
    "1. Re-construct the previous network\n",
    "2. Add a [convolutional layer](https://keras.io/layers/convolutional/#convolution2d) with 32 filters, a 3x3 kernel, and valid padding before the flatten layer.\n",
    "3. Add a ReLU activation after the convolutional layer.\n",
    "\n",
    "Hint 1: The Keras example of a [convolutional neural network](https://github.com/fchollet/keras/blob/master/examples/mnist_cnn.py) for MNIST would be a good example to review."
   ]
  },
  {
   "cell_type": "code",
   "execution_count": 19,
   "metadata": {
    "collapsed": false
   },
   "outputs": [],
   "source": [
    "# TODO: Re-construct the network and add a convolutional layer before the flatten layer.\n",
    "from keras.models import Sequential\n",
    "from keras.layers import Dense, Dropout, Activation, Flatten\n",
    "from keras.layers import Convolution2D\n",
    "\n",
    "\n",
    "model = Sequential()\n",
    "model.add(Convolution2D(32, 3, 3, border_mode='valid', input_shape=(32, 32, 3)))\n",
    "model.add(Activation('relu'))\n",
    "model.add(Flatten())\n",
    "model.add(Dense(128))\n",
    "model.add(Activation('relu'))\n",
    "model.add(Dense(43))\n",
    "model.add(Activation('softmax'))"
   ]
  },
  {
   "cell_type": "code",
   "execution_count": 20,
   "metadata": {
    "collapsed": false
   },
   "outputs": [
    {
     "name": "stdout",
     "output_type": "stream",
     "text": [
      "Train on 31367 samples, validate on 7842 samples\n",
      "Epoch 1/2\n",
      "31367/31367 [==============================] - 82s - loss: 1.2074 - acc: 0.6828 - val_loss: 0.5703 - val_acc: 0.8225\n",
      "Epoch 2/2\n",
      "31367/31367 [==============================] - 81s - loss: 0.3007 - acc: 0.9260 - val_loss: 0.2658 - val_acc: 0.9306\n",
      "Tests passed.\n"
     ]
    }
   ],
   "source": [
    "# STOP: Do not change the tests below. Your implementation should pass these tests.\n",
    "from keras.layers.core import Dense, Activation, Flatten\n",
    "from keras.layers.convolutional import Convolution2D\n",
    "\n",
    "check_layers([Convolution2D, Activation, Flatten, Dense, Activation, Dense, Activation], model.layers)\n",
    "\n",
    "assert model.layers[0].input_shape == (None, 32, 32, 3), 'First layer input shape is wrong, it should be (32, 32, 3)'\n",
    "assert model.layers[0].nb_filter == 32, 'Wrong number of filters, it should be 32'\n",
    "assert model.layers[0].nb_col == model.layers[0].nb_row == 3, 'Kernel size is wrong, it should be a 3x3'\n",
    "assert model.layers[0].border_mode == 'valid', 'Wrong padding, it should be valid'\n",
    "\n",
    "model.compile('adam', 'categorical_crossentropy', ['accuracy'])\n",
    "history = model.fit(X_normalized, y_one_hot, batch_size=128, nb_epoch=2, validation_split=0.2)\n",
    "assert(history.history['val_acc'][-1] > 0.91), \"The validation accuracy is: %.3f.  It should be greater than 0.91\" % history.history['val_acc'][-1]\n",
    "print('Tests passed.')"
   ]
  },
  {
   "cell_type": "markdown",
   "metadata": {},
   "source": [
    "## Pooling\n",
    "1. Re-construct the network\n",
    "2. Add a 2x2 [max pooling layer](https://keras.io/layers/pooling/#maxpooling2d) immediately following your convolutional layer."
   ]
  },
  {
   "cell_type": "code",
   "execution_count": 23,
   "metadata": {
    "collapsed": false
   },
   "outputs": [],
   "source": [
    "# TODO: Re-construct the network and add a pooling layer after the convolutional layer.\n",
    "from keras.models import Sequential\n",
    "from keras.layers import Dense, Dropout, Activation, Flatten\n",
    "from keras.layers import Convolution2D, MaxPooling2D\n",
    "\n",
    "\n",
    "model = Sequential()\n",
    "model.add(Convolution2D(32, 3, 3, border_mode='valid', input_shape=(32, 32, 3)))\n",
    "model.add(MaxPooling2D(pool_size=(2,2)))\n",
    "model.add(Activation('relu'))\n",
    "model.add(Flatten())\n",
    "model.add(Dense(128))\n",
    "model.add(Activation('relu'))\n",
    "model.add(Dense(43))\n",
    "model.add(Activation('softmax'))"
   ]
  },
  {
   "cell_type": "code",
   "execution_count": 24,
   "metadata": {
    "collapsed": false
   },
   "outputs": [
    {
     "name": "stdout",
     "output_type": "stream",
     "text": [
      "Train on 31367 samples, validate on 7842 samples\n",
      "Epoch 1/2\n",
      "31367/31367 [==============================] - 50s - loss: 1.5217 - acc: 0.6017 - val_loss: 0.6769 - val_acc: 0.7938\n",
      "Epoch 2/2\n",
      "31367/31367 [==============================] - 50s - loss: 0.4330 - acc: 0.8928 - val_loss: 0.3259 - val_acc: 0.9186\n",
      "Tests passed.\n"
     ]
    }
   ],
   "source": [
    "# STOP: Do not change the tests below. Your implementation should pass these tests.\n",
    "from keras.layers.core import Dense, Activation, Flatten\n",
    "from keras.layers.convolutional import Convolution2D\n",
    "from keras.layers.pooling import MaxPooling2D\n",
    "\n",
    "check_layers([Convolution2D, MaxPooling2D, Activation, Flatten, Dense, Activation, Dense, Activation], model.layers)\n",
    "assert model.layers[1].pool_size == (2, 2), 'Second layer must be a max pool layer with pool size of 2x2'\n",
    "\n",
    "model.compile('adam', 'categorical_crossentropy', ['accuracy'])\n",
    "history = model.fit(X_normalized, y_one_hot, batch_size=128, nb_epoch=2, validation_split=0.2)\n",
    "assert(history.history['val_acc'][-1] > 0.91), \"The validation accuracy is: %.3f.  It should be greater than 0.91\" % history.history['val_acc'][-1]\n",
    "print('Tests passed.')"
   ]
  },
  {
   "cell_type": "markdown",
   "metadata": {},
   "source": [
    "## Dropout\n",
    "1. Re-construct the network\n",
    "2. Add a [dropout](https://keras.io/layers/core/#dropout) layer after the pooling layer. Set the dropout rate to 50%."
   ]
  },
  {
   "cell_type": "code",
   "execution_count": 25,
   "metadata": {
    "collapsed": false
   },
   "outputs": [],
   "source": [
    "# TODO: Re-construct the network and add dropout after the pooling layer.\n",
    "from keras.models import Sequential\n",
    "from keras.layers import Dense, Dropout, Activation, Flatten, Dropout\n",
    "from keras.layers import Convolution2D, MaxPooling2D\n",
    "\n",
    "\n",
    "model = Sequential()\n",
    "model.add(Convolution2D(32, 3, 3, border_mode='valid', input_shape=(32, 32, 3)))\n",
    "model.add(MaxPooling2D(pool_size=(2,2)))\n",
    "model.add(Dropout(0.5))\n",
    "model.add(Activation('relu'))\n",
    "model.add(Flatten())\n",
    "model.add(Dense(128))\n",
    "model.add(Activation('relu'))\n",
    "model.add(Dense(43))\n",
    "model.add(Activation('softmax'))"
   ]
  },
  {
   "cell_type": "code",
   "execution_count": 27,
   "metadata": {
    "collapsed": false
   },
   "outputs": [
    {
     "name": "stdout",
     "output_type": "stream",
     "text": [
      "Train on 31367 samples, validate on 7842 samples\n",
      "Epoch 1/2\n",
      "31367/31367 [==============================] - 62s - loss: 0.3138 - acc: 0.9192 - val_loss: 0.2315 - val_acc: 0.9468\n",
      "Epoch 2/2\n",
      "31367/31367 [==============================] - 57s - loss: 0.2236 - acc: 0.9405 - val_loss: 0.1634 - val_acc: 0.9674\n",
      "Tests passed.\n"
     ]
    }
   ],
   "source": [
    "# STOP: Do not change the tests below. Your implementation should pass these tests.\n",
    "from keras.layers.core import Dense, Activation, Flatten, Dropout\n",
    "from keras.layers.convolutional import Convolution2D\n",
    "from keras.layers.pooling import MaxPooling2D\n",
    "\n",
    "check_layers([Convolution2D, MaxPooling2D, Dropout, Activation, Flatten, Dense, Activation, Dense, Activation], model.layers)\n",
    "assert model.layers[2].p == 0.5, 'Third layer should be a Dropout of 50%'\n",
    "\n",
    "model.compile('adam', 'categorical_crossentropy', ['accuracy'])\n",
    "history = model.fit(X_normalized, y_one_hot, batch_size=128, nb_epoch=2, validation_split=0.2)\n",
    "assert(history.history['val_acc'][-1] > 0.91), \"The validation accuracy is: %.3f.  It should be greater than 0.91\" % history.history['val_acc'][-1]\n",
    "print('Tests passed.')"
   ]
  },
  {
   "cell_type": "markdown",
   "metadata": {},
   "source": [
    "## Optimization\n",
    "Congratulations! You've built a neural network with convolutions, pooling, dropout, and fully-connected layers, all in just a few lines of code.\n",
    "\n",
    "Have fun with the model and see how well you can do! Add more layers, or regularization, or different padding, or batches, or more training epochs.\n",
    "\n",
    "What is the best validation accuracy you can achieve?"
   ]
  },
  {
   "cell_type": "code",
   "execution_count": 31,
   "metadata": {
    "collapsed": false
   },
   "outputs": [
    {
     "name": "stdout",
     "output_type": "stream",
     "text": [
      "Train on 31367 samples, validate on 7842 samples\n",
      "Epoch 1/15\n",
      "31367/31367 [==============================] - 39s - loss: 3.2312 - acc: 0.1390 - val_loss: 2.3601 - val_acc: 0.3370\n",
      "Epoch 2/15\n",
      "31367/31367 [==============================] - 35s - loss: 2.3029 - acc: 0.3111 - val_loss: 1.7919 - val_acc: 0.4482\n",
      "Epoch 3/15\n",
      "31367/31367 [==============================] - 35s - loss: 1.9458 - acc: 0.3854 - val_loss: 1.4707 - val_acc: 0.5219\n",
      "Epoch 4/15\n",
      "31367/31367 [==============================] - 35s - loss: 1.7236 - acc: 0.4420 - val_loss: 1.2660 - val_acc: 0.6010\n",
      "Epoch 5/15\n",
      "31367/31367 [==============================] - 35s - loss: 1.5619 - acc: 0.4876 - val_loss: 1.0901 - val_acc: 0.6604\n",
      "Epoch 6/15\n",
      "31367/31367 [==============================] - 35s - loss: 1.4379 - acc: 0.5256 - val_loss: 0.9752 - val_acc: 0.7156\n",
      "Epoch 7/15\n",
      "31367/31367 [==============================] - 35s - loss: 1.3397 - acc: 0.5603 - val_loss: 0.8421 - val_acc: 0.7609\n",
      "Epoch 8/15\n",
      "31367/31367 [==============================] - 43s - loss: 1.2696 - acc: 0.5832 - val_loss: 0.7545 - val_acc: 0.7802\n",
      "Epoch 9/15\n",
      "31367/31367 [==============================] - 35s - loss: 1.2082 - acc: 0.6078 - val_loss: 0.7187 - val_acc: 0.8027\n",
      "Epoch 10/15\n",
      "31367/31367 [==============================] - 37s - loss: 1.1637 - acc: 0.6242 - val_loss: 0.6481 - val_acc: 0.8243\n",
      "Epoch 11/15\n",
      "31367/31367 [==============================] - 36s - loss: 1.1110 - acc: 0.6384 - val_loss: 0.5971 - val_acc: 0.8417\n",
      "Epoch 12/15\n",
      "31367/31367 [==============================] - 37s - loss: 1.0742 - acc: 0.6546 - val_loss: 0.5594 - val_acc: 0.8567\n",
      "Epoch 13/15\n",
      "31367/31367 [==============================] - 35s - loss: 1.0488 - acc: 0.6642 - val_loss: 0.6488 - val_acc: 0.8261\n",
      "Epoch 14/15\n",
      "31367/31367 [==============================] - 35s - loss: 1.0360 - acc: 0.6639 - val_loss: 0.5135 - val_acc: 0.8650\n",
      "Epoch 15/15\n",
      "31367/31367 [==============================] - 35s - loss: 1.0035 - acc: 0.6785 - val_loss: 0.4958 - val_acc: 0.8739\n"
     ]
    }
   ],
   "source": [
    "# TODO: Build a model\n",
    "from keras.models import Sequential\n",
    "from keras.layers import Dense, Dropout, Activation, Flatten, Dropout\n",
    "from keras.layers import Convolution2D, MaxPooling2D\n",
    "\n",
    "\n",
    "model = Sequential()\n",
    "\n",
    "model.add(Convolution2D(6, 5, 5, border_mode='valid', input_shape=(32, 32, 3)))\n",
    "model.add(MaxPooling2D(pool_size=(2,2)))\n",
    "model.add(Dropout(0.25))\n",
    "model.add(Activation('relu'))\n",
    "\n",
    "model.add(Convolution2D(16, 5, 5, border_mode='valid', input_shape=(32, 32, 3)))\n",
    "model.add(MaxPooling2D(pool_size=(2,2)))\n",
    "model.add(Dropout(0.25))\n",
    "model.add(Activation('relu'))\n",
    "\n",
    "model.add(Flatten())\n",
    "model.add(Activation('relu'))\n",
    "model.add(Dropout(0.5))\n",
    "\n",
    "model.add(Dense(120))\n",
    "model.add(Activation('relu'))\n",
    "model.add(Dropout(0.5))\n",
    "\n",
    "model.add(Dense(84))\n",
    "model.add(Activation('relu'))\n",
    "model.add(Dropout(0.5))\n",
    "\n",
    "model.add(Dense(43))\n",
    "model.add(Activation('softmax'))\n",
    "\n",
    "# TODO: Compile and train the model\n",
    "model.compile('adam', 'categorical_crossentropy', ['accuracy'])\n",
    "history = model.fit(X_normalized, y_one_hot, batch_size=128, nb_epoch=15, validation_split=0.2)"
   ]
  },
  {
   "cell_type": "code",
   "execution_count": 39,
   "metadata": {
    "collapsed": false,
    "scrolled": false
   },
   "outputs": [
    {
     "name": "stdout",
     "output_type": "stream",
     "text": [
      "Train on 31367 samples, validate on 7842 samples\n",
      "Epoch 1/100\n",
      "31367/31367 [==============================] - 36s - loss: 0.6118 - acc: 0.8182 - val_loss: 0.1496 - val_acc: 0.9587\n",
      "Epoch 2/100\n",
      "31367/31367 [==============================] - 35s - loss: 0.6032 - acc: 0.8172 - val_loss: 0.1486 - val_acc: 0.9600\n",
      "Epoch 3/100\n",
      "31367/31367 [==============================] - 36s - loss: 0.6029 - acc: 0.8160 - val_loss: 0.1746 - val_acc: 0.9515\n",
      "Epoch 4/100\n",
      "31367/31367 [==============================] - 35s - loss: 0.5986 - acc: 0.8190 - val_loss: 0.1492 - val_acc: 0.9589\n",
      "Epoch 5/100\n",
      "31367/31367 [==============================] - 35s - loss: 0.5939 - acc: 0.8213 - val_loss: 0.1501 - val_acc: 0.9596\n",
      "Epoch 6/100\n",
      "31367/31367 [==============================] - 35s - loss: 0.6040 - acc: 0.8194 - val_loss: 0.1576 - val_acc: 0.9558\n",
      "Epoch 7/100\n",
      "31367/31367 [==============================] - 35s - loss: 0.6089 - acc: 0.8150 - val_loss: 0.1452 - val_acc: 0.9607\n",
      "Epoch 8/100\n",
      "31367/31367 [==============================] - 35s - loss: 0.5956 - acc: 0.8183 - val_loss: 0.1743 - val_acc: 0.9482\n",
      "Epoch 9/100\n",
      "31367/31367 [==============================] - 36s - loss: 0.6059 - acc: 0.8165 - val_loss: 0.1953 - val_acc: 0.9434\n",
      "Epoch 10/100\n",
      "31367/31367 [==============================] - 36s - loss: 0.6110 - acc: 0.8175 - val_loss: 0.1755 - val_acc: 0.9495\n",
      "Epoch 11/100\n",
      "31367/31367 [==============================] - 36s - loss: 0.6055 - acc: 0.8183 - val_loss: 0.1498 - val_acc: 0.9628\n",
      "Epoch 12/100\n",
      "31367/31367 [==============================] - 36s - loss: 0.6071 - acc: 0.8183 - val_loss: 0.1724 - val_acc: 0.9513\n",
      "Epoch 13/100\n",
      "31367/31367 [==============================] - 36s - loss: 0.6023 - acc: 0.8180 - val_loss: 0.1467 - val_acc: 0.9587\n",
      "Epoch 14/100\n",
      "31367/31367 [==============================] - 36s - loss: 0.6041 - acc: 0.8193 - val_loss: 0.1632 - val_acc: 0.9546\n",
      "Epoch 15/100\n",
      "31367/31367 [==============================] - 40s - loss: 0.6096 - acc: 0.8154 - val_loss: 0.1622 - val_acc: 0.9537\n",
      "Epoch 16/100\n",
      "31367/31367 [==============================] - 40s - loss: 0.6031 - acc: 0.8187 - val_loss: 0.1467 - val_acc: 0.9609\n",
      "Epoch 17/100\n",
      "31367/31367 [==============================] - 36s - loss: 0.5993 - acc: 0.8185 - val_loss: 0.1562 - val_acc: 0.9587\n",
      "Epoch 18/100\n",
      "31367/31367 [==============================] - 36s - loss: 0.5983 - acc: 0.8200 - val_loss: 0.1732 - val_acc: 0.9498\n",
      "Epoch 19/100\n",
      "31367/31367 [==============================] - 36s - loss: 0.6024 - acc: 0.8179 - val_loss: 0.1517 - val_acc: 0.9619\n",
      "Epoch 20/100\n",
      "31367/31367 [==============================] - 37s - loss: 0.6099 - acc: 0.8175 - val_loss: 0.1572 - val_acc: 0.9564\n",
      "Epoch 21/100\n",
      "31367/31367 [==============================] - 36s - loss: 0.5937 - acc: 0.8198 - val_loss: 0.1508 - val_acc: 0.9617\n",
      "Epoch 22/100\n",
      "31367/31367 [==============================] - 37s - loss: 0.5957 - acc: 0.8204 - val_loss: 0.1454 - val_acc: 0.9633\n",
      "Epoch 23/100\n",
      "31367/31367 [==============================] - 36s - loss: 0.6125 - acc: 0.8187 - val_loss: 0.1517 - val_acc: 0.9607\n",
      "Epoch 24/100\n",
      "31367/31367 [==============================] - 37s - loss: 0.5980 - acc: 0.8188 - val_loss: 0.1493 - val_acc: 0.9598\n",
      "Epoch 25/100\n",
      "31367/31367 [==============================] - 37s - loss: 0.6148 - acc: 0.8141 - val_loss: 0.1492 - val_acc: 0.9633\n",
      "Epoch 26/100\n",
      "31367/31367 [==============================] - 37s - loss: 0.5980 - acc: 0.8206 - val_loss: 0.1384 - val_acc: 0.9642\n",
      "Epoch 27/100\n",
      "31367/31367 [==============================] - 37s - loss: 0.5967 - acc: 0.8194 - val_loss: 0.1470 - val_acc: 0.9612\n",
      "Epoch 28/100\n",
      "31367/31367 [==============================] - 37s - loss: 0.6054 - acc: 0.8185 - val_loss: 0.1582 - val_acc: 0.9556\n",
      "Epoch 29/100\n",
      "31367/31367 [==============================] - 37s - loss: 0.5955 - acc: 0.8191 - val_loss: 0.1461 - val_acc: 0.9616\n",
      "Epoch 30/100\n",
      "31367/31367 [==============================] - 37s - loss: 0.5953 - acc: 0.8196 - val_loss: 0.1436 - val_acc: 0.9634\n",
      "Epoch 31/100\n",
      "31367/31367 [==============================] - 37s - loss: 0.5977 - acc: 0.8198 - val_loss: 0.1498 - val_acc: 0.9607\n",
      "Epoch 32/100\n",
      "31367/31367 [==============================] - 38s - loss: 0.6044 - acc: 0.8165 - val_loss: 0.1464 - val_acc: 0.9624\n",
      "Epoch 33/100\n",
      "31367/31367 [==============================] - 38s - loss: 0.6014 - acc: 0.8195 - val_loss: 0.1465 - val_acc: 0.9594\n",
      "Epoch 34/100\n",
      "31367/31367 [==============================] - 39s - loss: 0.5884 - acc: 0.8209 - val_loss: 0.1629 - val_acc: 0.9561\n",
      "Epoch 35/100\n",
      "31367/31367 [==============================] - 41s - loss: 0.6011 - acc: 0.8206 - val_loss: 0.1595 - val_acc: 0.9598\n",
      "Epoch 36/100\n",
      "31367/31367 [==============================] - 41s - loss: 0.5935 - acc: 0.8197 - val_loss: 0.1503 - val_acc: 0.9624\n",
      "Epoch 37/100\n",
      "31367/31367 [==============================] - 40s - loss: 0.5922 - acc: 0.8187 - val_loss: 0.1396 - val_acc: 0.9644\n",
      "Epoch 38/100\n",
      "31367/31367 [==============================] - 40s - loss: 0.5980 - acc: 0.8199 - val_loss: 0.1474 - val_acc: 0.9612\n",
      "Epoch 39/100\n",
      "31367/31367 [==============================] - 40s - loss: 0.5906 - acc: 0.8238 - val_loss: 0.1510 - val_acc: 0.9628\n",
      "Epoch 40/100\n",
      "31367/31367 [==============================] - 39s - loss: 0.5906 - acc: 0.8220 - val_loss: 0.1450 - val_acc: 0.9609\n",
      "Epoch 41/100\n",
      "31367/31367 [==============================] - 40s - loss: 0.5882 - acc: 0.8212 - val_loss: 0.1598 - val_acc: 0.9592\n",
      "Epoch 42/100\n",
      "31367/31367 [==============================] - 40s - loss: 0.5850 - acc: 0.8253 - val_loss: 0.1458 - val_acc: 0.9619\n",
      "Epoch 43/100\n",
      "31367/31367 [==============================] - 40s - loss: 0.5936 - acc: 0.8230 - val_loss: 0.1371 - val_acc: 0.9634\n",
      "Epoch 44/100\n",
      "31367/31367 [==============================] - 40s - loss: 0.5801 - acc: 0.8242 - val_loss: 0.1447 - val_acc: 0.9602\n",
      "Epoch 45/100\n",
      "31367/31367 [==============================] - 40s - loss: 0.5998 - acc: 0.8198 - val_loss: 0.1519 - val_acc: 0.9583\n",
      "Epoch 46/100\n",
      "31367/31367 [==============================] - 40s - loss: 0.5797 - acc: 0.8247 - val_loss: 0.1422 - val_acc: 0.9629\n",
      "Epoch 47/100\n",
      "31367/31367 [==============================] - 40s - loss: 0.5873 - acc: 0.8223 - val_loss: 0.1534 - val_acc: 0.9583\n",
      "Epoch 48/100\n",
      "31367/31367 [==============================] - 40s - loss: 0.6005 - acc: 0.8190 - val_loss: 0.1404 - val_acc: 0.9640\n",
      "Epoch 49/100\n",
      "31367/31367 [==============================] - 40s - loss: 0.5966 - acc: 0.8232 - val_loss: 0.1807 - val_acc: 0.9492\n",
      "Epoch 50/100\n",
      "31367/31367 [==============================] - 40s - loss: 0.5886 - acc: 0.8225 - val_loss: 0.1433 - val_acc: 0.9603\n",
      "Epoch 51/100\n",
      "31367/31367 [==============================] - 40s - loss: 0.6090 - acc: 0.8186 - val_loss: 0.2048 - val_acc: 0.9398\n",
      "Epoch 52/100\n",
      "31367/31367 [==============================] - 40s - loss: 0.6121 - acc: 0.8163 - val_loss: 0.1529 - val_acc: 0.9588\n",
      "Epoch 53/100\n",
      "31367/31367 [==============================] - 40s - loss: 0.5928 - acc: 0.8199 - val_loss: 0.1469 - val_acc: 0.9616\n",
      "Epoch 54/100\n",
      "31367/31367 [==============================] - 40s - loss: 0.5684 - acc: 0.8276 - val_loss: 0.1437 - val_acc: 0.9615\n",
      "Epoch 55/100\n",
      "31367/31367 [==============================] - 40s - loss: 0.5873 - acc: 0.8223 - val_loss: 0.1440 - val_acc: 0.9619\n",
      "Epoch 56/100\n",
      "31367/31367 [==============================] - 40s - loss: 0.5971 - acc: 0.8204 - val_loss: 0.1505 - val_acc: 0.9601\n",
      "Epoch 57/100\n",
      "31367/31367 [==============================] - 40s - loss: 0.5943 - acc: 0.8198 - val_loss: 0.1572 - val_acc: 0.9589\n",
      "Epoch 58/100\n",
      "31367/31367 [==============================] - 40s - loss: 0.6017 - acc: 0.8192 - val_loss: 0.1537 - val_acc: 0.9609\n",
      "Epoch 59/100\n",
      "31367/31367 [==============================] - 40s - loss: 0.5914 - acc: 0.8224 - val_loss: 0.1438 - val_acc: 0.9605\n",
      "Epoch 60/100\n",
      "31367/31367 [==============================] - 41s - loss: 0.5972 - acc: 0.8182 - val_loss: 0.1443 - val_acc: 0.9588\n",
      "Epoch 61/100\n",
      "31367/31367 [==============================] - 40s - loss: 0.6012 - acc: 0.8209 - val_loss: 0.1509 - val_acc: 0.9587\n",
      "Epoch 62/100\n",
      "31367/31367 [==============================] - 40s - loss: 0.5982 - acc: 0.8189 - val_loss: 0.1510 - val_acc: 0.9602\n",
      "Epoch 63/100\n",
      "31367/31367 [==============================] - 41s - loss: 0.5823 - acc: 0.8239 - val_loss: 0.1544 - val_acc: 0.9552\n",
      "Epoch 64/100\n",
      "31367/31367 [==============================] - 41s - loss: 0.5856 - acc: 0.8215 - val_loss: 0.1578 - val_acc: 0.9559\n",
      "Epoch 65/100\n",
      "31367/31367 [==============================] - 41s - loss: 0.5876 - acc: 0.8233 - val_loss: 0.1473 - val_acc: 0.9605\n",
      "Epoch 66/100\n",
      "31367/31367 [==============================] - 40s - loss: 0.5944 - acc: 0.8228 - val_loss: 0.1435 - val_acc: 0.9635\n",
      "Epoch 67/100\n",
      "31367/31367 [==============================] - 40s - loss: 0.5964 - acc: 0.8214 - val_loss: 0.1497 - val_acc: 0.9648\n",
      "Epoch 68/100\n",
      "31367/31367 [==============================] - 40s - loss: 0.5967 - acc: 0.8218 - val_loss: 0.1505 - val_acc: 0.9579\n",
      "Epoch 69/100\n",
      "31367/31367 [==============================] - 41s - loss: 0.5848 - acc: 0.8244 - val_loss: 0.1452 - val_acc: 0.9601\n",
      "Epoch 70/100\n",
      "31367/31367 [==============================] - 40s - loss: 0.5811 - acc: 0.8242 - val_loss: 0.1451 - val_acc: 0.9624\n",
      "Epoch 71/100\n",
      "31367/31367 [==============================] - 41s - loss: 0.5896 - acc: 0.8258 - val_loss: 0.1408 - val_acc: 0.9666\n",
      "Epoch 72/100\n",
      "31367/31367 [==============================] - 41s - loss: 0.5878 - acc: 0.8209 - val_loss: 0.1411 - val_acc: 0.9619\n",
      "Epoch 73/100\n",
      "31367/31367 [==============================] - 41s - loss: 0.5962 - acc: 0.8209 - val_loss: 0.1654 - val_acc: 0.9543\n",
      "Epoch 74/100\n",
      "31367/31367 [==============================] - 41s - loss: 0.5993 - acc: 0.8193 - val_loss: 0.1567 - val_acc: 0.9610\n",
      "Epoch 75/100\n",
      "31367/31367 [==============================] - 41s - loss: 0.5908 - acc: 0.8229 - val_loss: 0.1435 - val_acc: 0.9625\n",
      "Epoch 76/100\n",
      "31367/31367 [==============================] - 40s - loss: 0.5972 - acc: 0.8189 - val_loss: 0.1580 - val_acc: 0.9558\n",
      "Epoch 77/100\n",
      "31367/31367 [==============================] - 40s - loss: 0.5929 - acc: 0.8221 - val_loss: 0.1608 - val_acc: 0.9552\n",
      "Epoch 78/100\n",
      "31367/31367 [==============================] - 41s - loss: 0.5909 - acc: 0.8223 - val_loss: 0.1533 - val_acc: 0.9600\n",
      "Epoch 79/100\n",
      "31367/31367 [==============================] - 41s - loss: 0.5826 - acc: 0.8253 - val_loss: 0.1450 - val_acc: 0.9610\n",
      "Epoch 80/100\n",
      "31367/31367 [==============================] - 41s - loss: 0.5983 - acc: 0.8196 - val_loss: 0.1445 - val_acc: 0.9615\n",
      "Epoch 81/100\n",
      "31367/31367 [==============================] - 41s - loss: 0.5894 - acc: 0.8238 - val_loss: 0.1603 - val_acc: 0.9580\n",
      "Epoch 82/100\n",
      "31367/31367 [==============================] - 40s - loss: 0.5936 - acc: 0.8210 - val_loss: 0.1816 - val_acc: 0.9457\n",
      "Epoch 83/100\n",
      "31367/31367 [==============================] - 41s - loss: 0.5949 - acc: 0.8214 - val_loss: 0.1499 - val_acc: 0.9623\n",
      "Epoch 84/100\n",
      "31367/31367 [==============================] - 41s - loss: 0.5947 - acc: 0.8209 - val_loss: 0.1539 - val_acc: 0.9554\n",
      "Epoch 85/100\n",
      "31367/31367 [==============================] - 41s - loss: 0.5927 - acc: 0.8243 - val_loss: 0.1591 - val_acc: 0.9580\n",
      "Epoch 86/100\n",
      "31367/31367 [==============================] - 40s - loss: 0.5951 - acc: 0.8202 - val_loss: 0.1449 - val_acc: 0.9606\n",
      "Epoch 87/100\n",
      "31367/31367 [==============================] - 40s - loss: 0.5914 - acc: 0.8229 - val_loss: 0.1407 - val_acc: 0.9611\n",
      "Epoch 88/100\n",
      "31367/31367 [==============================] - 40s - loss: 0.5986 - acc: 0.8198 - val_loss: 0.1512 - val_acc: 0.9586\n",
      "Epoch 89/100\n",
      "31367/31367 [==============================] - 39s - loss: 0.5871 - acc: 0.8240 - val_loss: 0.1432 - val_acc: 0.9611\n",
      "Epoch 90/100\n",
      "31367/31367 [==============================] - 39s - loss: 0.5971 - acc: 0.8205 - val_loss: 0.1442 - val_acc: 0.9611\n",
      "Epoch 91/100\n",
      "31367/31367 [==============================] - 39s - loss: 0.5843 - acc: 0.8257 - val_loss: 0.1339 - val_acc: 0.9670\n",
      "Epoch 92/100\n",
      "31367/31367 [==============================] - 39s - loss: 0.5933 - acc: 0.8203 - val_loss: 0.1674 - val_acc: 0.9496\n",
      "Epoch 93/100\n",
      "31367/31367 [==============================] - 39s - loss: 0.5931 - acc: 0.8207 - val_loss: 0.1469 - val_acc: 0.9600\n",
      "Epoch 94/100\n",
      "31367/31367 [==============================] - 38s - loss: 0.5847 - acc: 0.8223 - val_loss: 0.1577 - val_acc: 0.9570\n",
      "Epoch 95/100\n",
      "31367/31367 [==============================] - 37s - loss: 0.5819 - acc: 0.8255 - val_loss: 0.1426 - val_acc: 0.9638\n",
      "Epoch 96/100\n",
      "31367/31367 [==============================] - 38s - loss: 0.5869 - acc: 0.8248 - val_loss: 0.1446 - val_acc: 0.9584\n",
      "Epoch 97/100\n",
      "31367/31367 [==============================] - 37s - loss: 0.5883 - acc: 0.8244 - val_loss: 0.1434 - val_acc: 0.9623\n",
      "Epoch 98/100\n",
      "31367/31367 [==============================] - 37s - loss: 0.5904 - acc: 0.8225 - val_loss: 0.1426 - val_acc: 0.9615\n",
      "Epoch 99/100\n",
      "31367/31367 [==============================] - 36s - loss: 0.5805 - acc: 0.8283 - val_loss: 0.1434 - val_acc: 0.9589\n",
      "Epoch 100/100\n",
      "31367/31367 [==============================] - 37s - loss: 0.5968 - acc: 0.8205 - val_loss: 0.1489 - val_acc: 0.9565\n"
     ]
    }
   ],
   "source": [
    "# Training a bit more\n",
    "model.compile('adam', 'categorical_crossentropy', ['accuracy'])\n",
    "history = model.fit(X_normalized, y_one_hot, batch_size=128, nb_epoch=100, validation_split=0.2)"
   ]
  },
  {
   "cell_type": "markdown",
   "metadata": {},
   "source": [
    "**Best Validation Accuracy:** 95.65%"
   ]
  },
  {
   "cell_type": "markdown",
   "metadata": {},
   "source": [
    "## Testing\n",
    "Once you've picked out your best model, it's time to test it.\n",
    "\n",
    "Load up the test data and use the [`evaluate()` method](https://keras.io/models/model/#evaluate) to see how well it does.\n",
    "\n",
    "Hint 1: The `evaluate()` method should return an array of numbers. Use the [`metrics_names`](https://keras.io/models/model/) property to get the labels."
   ]
  },
  {
   "cell_type": "code",
   "execution_count": 40,
   "metadata": {
    "collapsed": false
   },
   "outputs": [
    {
     "name": "stdout",
     "output_type": "stream",
     "text": [
      "12630/12630 [==============================] - 8s     \n"
     ]
    },
    {
     "data": {
      "text/plain": [
       "[0.23906751031547147, 0.93135391928709788]"
      ]
     },
     "execution_count": 40,
     "metadata": {},
     "output_type": "execute_result"
    }
   ],
   "source": [
    "# TODO: Load test data\n",
    "with open('test.p', 'rb') as f:\n",
    "    data = pickle.load(f)\n",
    "\n",
    "X_test, y_test = data['features'], data['labels']\n",
    "    \n",
    "# TODO: Preprocess data & one-hot encode the labels\n",
    "X_test_normalized = X_test/255 - 0.5\n",
    "y_test_one_hot = encoder.transform(y_test)\n",
    "y_test_one_hot = y_test_one_hot.astype(np.float32)  \n",
    "\n",
    "# TODO: Evaluate model on test data\n",
    "model.evaluate(X_test_normalized, y_test_one_hot)"
   ]
  },
  {
   "cell_type": "code",
   "execution_count": 42,
   "metadata": {
    "collapsed": false
   },
   "outputs": [
    {
     "data": {
      "text/plain": [
       "['loss', 'acc']"
      ]
     },
     "execution_count": 42,
     "metadata": {},
     "output_type": "execute_result"
    }
   ],
   "source": [
    "model.metrics_names"
   ]
  },
  {
   "cell_type": "markdown",
   "metadata": {},
   "source": [
    "**Test Accuracy:** 93.13%"
   ]
  },
  {
   "cell_type": "markdown",
   "metadata": {},
   "source": [
    "## Summary\n",
    "Keras is a great tool to use if you want to quickly build a neural network and evaluate performance."
   ]
  }
 ],
 "metadata": {
  "anaconda-cloud": {},
  "kernelspec": {
   "display_name": "Python [conda env:sdcnd]",
   "language": "python",
   "name": "conda-env-sdcnd-py"
  },
  "language_info": {
   "codemirror_mode": {
    "name": "ipython",
    "version": 3
   },
   "file_extension": ".py",
   "mimetype": "text/x-python",
   "name": "python",
   "nbconvert_exporter": "python",
   "pygments_lexer": "ipython3",
   "version": "3.5.2"
  }
 },
 "nbformat": 4,
 "nbformat_minor": 0
}
